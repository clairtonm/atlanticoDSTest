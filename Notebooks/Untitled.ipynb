{
 "cells": [
  {
   "cell_type": "code",
   "execution_count": 2037,
   "metadata": {},
   "outputs": [
    {
     "data": {
      "text/plain": [
       "<Figure size 1224x432 with 0 Axes>"
      ]
     },
     "metadata": {},
     "output_type": "display_data"
    }
   ],
   "source": [
    "import pandas as pd\n",
    "import numpy as np\n",
    "import matplotlib.pyplot as plt\n",
    "import seaborn as sns\n",
    "import matplotlib.ticker as ticker\n",
    "\n",
    "%matplotlib inline\n",
    "\n",
    "plt.figure(figsize=(17, 6))\n",
    "cmap = sns.cubehelix_palette(rot=-.2, as_cmap=True)"
   ]
  },
  {
   "cell_type": "markdown",
   "metadata": {},
   "source": [
    "### Importando os dados"
   ]
  },
  {
   "cell_type": "code",
   "execution_count": 2042,
   "metadata": {},
   "outputs": [],
   "source": [
    "raw_use_of_force = pd.read_csv(\"./../use-of-force.csv\")"
   ]
  },
  {
   "cell_type": "markdown",
   "metadata": {},
   "source": [
    "#### Dados sem formatação"
   ]
  },
  {
   "cell_type": "code",
   "execution_count": 2040,
   "metadata": {},
   "outputs": [
    {
     "name": "stdout",
     "output_type": "stream",
     "text": [
      "<class 'pandas.core.frame.DataFrame'>\n",
      "RangeIndex: 8061 entries, 0 to 8060\n",
      "Data columns (total 11 columns):\n",
      "ID                   8061 non-null object\n",
      "Incident_Num         8061 non-null int64\n",
      "Incident_Type        8061 non-null object\n",
      "Occured_date_time    8061 non-null object\n",
      "Precinct             7454 non-null object\n",
      "Sector               8061 non-null object\n",
      "Beat                 7454 non-null object\n",
      "Officer_ID           8061 non-null int64\n",
      "Subject_ID           8061 non-null int64\n",
      "Subject_Race         6730 non-null object\n",
      "Subject_Gender       7866 non-null object\n",
      "dtypes: int64(3), object(8)\n",
      "memory usage: 692.8+ KB\n"
     ]
    }
   ],
   "source": [
    "raw_use_of_force.info()"
   ]
  },
  {
   "cell_type": "markdown",
   "metadata": {},
   "source": [
    "### Preparação dos dados"
   ]
  },
  {
   "cell_type": "markdown",
   "metadata": {},
   "source": []
  },
  {
   "cell_type": "code",
   "execution_count": 2043,
   "metadata": {},
   "outputs": [],
   "source": [
    "# 1 - Substituir o sinal \"-\" pelo \"nan\" que tem um melhor desempenho para computar valores faltosos\n",
    "\n",
    "raw_use_of_force.loc[raw_use_of_force.Sector == '-', 'Sector'] = np.nan\n",
    "\n",
    "# 2 - Converter do campo de data do tipo string para o tipo datetime\n",
    "\n",
    "raw_use_of_force['Occured_date_time'] = pd.to_datetime(raw_use_of_force['Occured_date_time'])\n",
    "\n",
    "# 3 - Analisando os dados percebemos que delegacia S tem dados do setor U, mas o setor U pertence apenas a delegacia N,\n",
    "# vamos então alterar o valor da delegacia de S para N para este setor.\n",
    "\n",
    "raw_use_of_force.loc[(raw_use_of_force['Sector'] == 'U') & (raw_use_of_force['Precinct'] == 'S'),\n",
    "                                        'Precinct'] = 'N'\n",
    "\n",
    "# 4 - Também é possível perceber que existe uma delagacia sobresalente (X), esta delagacia não é mencionada pelo departamento \n",
    "# de Seattle, então vamos excluí-la.\n",
    "\n",
    "raw_use_of_force = raw_use_of_force[raw_use_of_force['Precinct'] != 'X']"
   ]
  },
  {
   "cell_type": "markdown",
   "metadata": {},
   "source": []
  },
  {
   "cell_type": "markdown",
   "metadata": {},
   "source": [
    "## Análise Exploratória de Dados"
   ]
  },
  {
   "cell_type": "code",
   "execution_count": 2046,
   "metadata": {},
   "outputs": [],
   "source": [
    "# 1. Como é a distribuição do uso de força dentre as delegacias e os setores? Em cada setor, qual o *beat* \n",
    "# com maior número de incidentes? Apresente também o ranking dos setores segundo o percentual de incidentes \n",
    "# \"Level 2\" em relação ao total de incidentes do respectivo setor."
   ]
  },
  {
   "cell_type": "code",
   "execution_count": 2047,
   "metadata": {},
   "outputs": [],
   "source": [
    "# Uso da força por delegacia"
   ]
  },
  {
   "cell_type": "code",
   "execution_count": 2048,
   "metadata": {},
   "outputs": [],
   "source": [
    "precinct_groupby = raw_use_of_force.groupby('Precinct').count() "
   ]
  },
  {
   "cell_type": "code",
   "execution_count": 2049,
   "metadata": {},
   "outputs": [
    {
     "data": {
      "text/html": [
       "<div>\n",
       "<style scoped>\n",
       "    .dataframe tbody tr th:only-of-type {\n",
       "        vertical-align: middle;\n",
       "    }\n",
       "\n",
       "    .dataframe tbody tr th {\n",
       "        vertical-align: top;\n",
       "    }\n",
       "\n",
       "    .dataframe thead th {\n",
       "        text-align: right;\n",
       "    }\n",
       "</style>\n",
       "<table border=\"1\" class=\"dataframe\">\n",
       "  <thead>\n",
       "    <tr style=\"text-align: right;\">\n",
       "      <th></th>\n",
       "      <th>Quantity</th>\n",
       "    </tr>\n",
       "    <tr>\n",
       "      <th>Precinct</th>\n",
       "      <th></th>\n",
       "    </tr>\n",
       "  </thead>\n",
       "  <tbody>\n",
       "    <tr>\n",
       "      <th>W</th>\n",
       "      <td>2015</td>\n",
       "    </tr>\n",
       "    <tr>\n",
       "      <th>N</th>\n",
       "      <td>1836</td>\n",
       "    </tr>\n",
       "    <tr>\n",
       "      <th>E</th>\n",
       "      <td>1434</td>\n",
       "    </tr>\n",
       "    <tr>\n",
       "      <th>S</th>\n",
       "      <td>1346</td>\n",
       "    </tr>\n",
       "    <tr>\n",
       "      <th>SW</th>\n",
       "      <td>480</td>\n",
       "    </tr>\n",
       "  </tbody>\n",
       "</table>\n",
       "</div>"
      ],
      "text/plain": [
       "          Quantity\n",
       "Precinct          \n",
       "W             2015\n",
       "N             1836\n",
       "E             1434\n",
       "S             1346\n",
       "SW             480"
      ]
     },
     "execution_count": 2049,
     "metadata": {},
     "output_type": "execute_result"
    }
   ],
   "source": [
    "# Foi selecionado apenas o campo Incident_Num, que expressa mais fielmente a quantidade agrupada pelo seu valor único\n",
    "# Também foi renomeado o campo Incidente_Num para Quantity e foram ordenados os dados.\n",
    "\n",
    "raw_use_of_force.groupby('Precinct').count() \n",
    "precinct_groupby = precinct_groupby[['Incident_Num']]\n",
    "precinct_groupby.rename(columns={'Incident_Num': 'Quantity'}, inplace=True)\n",
    "precinct_groupby.sort_values(by='Quantity', ascending=False ,inplace=True)\n",
    "precinct_groupby"
   ]
  },
  {
   "cell_type": "markdown",
   "metadata": {},
   "source": [
    "### O gráfico a seguir revela que as delegacias de West e North são as que tem maiores números de incidentes. Mas o destaque vai para a delegacia de Southwest, que é a que tem, por bastante vantagem, o menor número de incidentes."
   ]
  },
  {
   "cell_type": "code",
   "execution_count": 2082,
   "metadata": {},
   "outputs": [
    {
     "data": {
      "text/plain": [
       "Text(0.5,1,'Uso da Força por Delegacia')"
      ]
     },
     "execution_count": 2082,
     "metadata": {},
     "output_type": "execute_result"
    },
    {
     "data": {
      "image/png": "[encoded data removed]",
      "text/plain": [
       "<Figure size 1080x360 with 1 Axes>"
      ]
     },
     "metadata": {
      "needs_background": "light"
     },
     "output_type": "display_data"
    }
   ],
   "source": [
    "precinct_groupby.plot(kind='bar', figsize=(15, 5))\n",
    "plt.xlabel('Delegacia', fontsize=17)\n",
    "plt.legend(['Quantidade'], fontsize=15)\n",
    "plt.title('Uso da Força por Delegacia', fontsize=16)"
   ]
  },
  {
   "cell_type": "code",
   "execution_count": 2083,
   "metadata": {},
   "outputs": [],
   "source": [
    "# Uso da força por setor"
   ]
  },
  {
   "cell_type": "code",
   "execution_count": 2084,
   "metadata": {
    "scrolled": true
   },
   "outputs": [],
   "source": [
    "# Foi selecionado apenas o campo Incident_Num, que expressa mais fielmente a quantidade agrupada pelo seu valor único\n",
    "# Também foi renomeado o campo Incidente_Num para Quantity e foram ordenados os dados.\n",
    "\n",
    "sector_groupby = raw_use_of_force.groupby(['Precinct', 'Sector']).count()\n",
    "sector_groupby = sector_groupby[['Incident_Num']]\n",
    "sector_groupby.rename(columns={'Incident_Num': 'Quantity'}, inplace=True)\n",
    "sector_groupby.sort_values(by='Quantity', ascending=False, inplace=True)"
   ]
  },
  {
   "cell_type": "markdown",
   "metadata": {},
   "source": [
    "### O próximo gráfico revela que o maior número de incidentes, fica setor de E da delegacia de East. A delegacia West, a que concentra o maior número de incidentes aparece em segundo lugar com o setor K. Seguindo o gráfico anterior a delegacia de Southwest, setor W, é a que aparece com menor número de incidentes."
   ]
  },
  {
   "cell_type": "code",
   "execution_count": 2087,
   "metadata": {},
   "outputs": [
    {
     "data": {
      "text/plain": [
       "Text(0.5,1,'Uso da Força por Setor')"
      ]
     },
     "execution_count": 2087,
     "metadata": {},
     "output_type": "execute_result"
    },
    {
     "data": {
      "image/png": "[encoded data removed]",
      "text/plain": [
       "<Figure size 1080x360 with 1 Axes>"
      ]
     },
     "metadata": {
      "needs_background": "light"
     },
     "output_type": "display_data"
    }
   ],
   "source": [
    "sector_groupby.plot(kind='bar', figsize=(15, 5))\n",
    "plt.xlabel('Delegacia, Setor', fontsize=17)\n",
    "plt.legend(['Quantidade'], fontsize=15)\n",
    "plt.title('Uso da Força por Setor', fontsize=16)"
   ]
  },
  {
   "cell_type": "code",
   "execution_count": 2088,
   "metadata": {},
   "outputs": [],
   "source": [
    "# Uso da força por beat"
   ]
  },
  {
   "cell_type": "code",
   "execution_count": 2091,
   "metadata": {
    "scrolled": true
   },
   "outputs": [],
   "source": [
    "# Foi selecionado apenas o campo Incident_Num, que expressa mais fielmente a quantidade agrupada pelo seu valor único.\n",
    "# Também foi renomeado o campo Incidente_Num para Quantity.\n",
    "\n",
    "beat_groupby = raw_use_of_force.groupby(['Precinct', 'Sector', 'Beat']).count()\n",
    "beat_groupby = beat_groupby[['Incident_Num']]\n",
    "beat_groupby.rename(columns={'Incident_Num': 'Quantity'}, inplace=True)\n",
    "beat_groupby.reset_index(inplace=True)\n",
    "\n",
    "# Foi Selecionado apenas o beat com maior número de incidentes por Setor, atualizado os índices do dataframe, \n",
    "# e foram ordernados os dados.\n",
    "\n",
    "beat_groupby_max = beat_groupby.groupby('Sector').max()\n",
    "beat_groupby_max.reset_index(inplace=True)\n",
    "beat_groupby_max = beat_groupby_max.set_index(['Precinct', 'Sector', 'Beat'])\n",
    "beat_groupby_max.sort_values(by='Quantity', ascending=False, inplace=True)"
   ]
  },
  {
   "cell_type": "markdown",
   "metadata": {},
   "source": [
    "### Neste gráfico podemos perceber claramente que o beat E3, é o que puxa o setor E para o topo, como vimos no gráfico anterior de setores. A delegacia Southwest, setor W e beat W3 aparece na penultima posição desta vez. Contudo é interessante notar que a delgacia East, setor C beat C3 aparece em último lugar neste gráfico. \n"
   ]
  },
  {
   "cell_type": "code",
   "execution_count": 2092,
   "metadata": {},
   "outputs": [
    {
     "data": {
      "text/plain": [
       "Text(0.5,1,'Beats com Maiores Incidentes por Setor')"
      ]
     },
     "execution_count": 2092,
     "metadata": {},
     "output_type": "execute_result"
    },
    {
     "data": {
      "image/png": "[encoded data removed]",
      "text/plain": [
       "<Figure size 1080x360 with 1 Axes>"
      ]
     },
     "metadata": {
      "needs_background": "light"
     },
     "output_type": "display_data"
    }
   ],
   "source": [
    "# Beats com maiores incidentes por Setor\n",
    "beat_groupby_max.plot(kind='bar', figsize=(15, 5))\n",
    "plt.xlabel('Delegacia, Setor, Beat', fontsize=17)\n",
    "plt.legend(['Quantidade'], fontsize=15)\n",
    "plt.title('Beats com Maiores Incidentes por Setor', fontsize=16)"
   ]
  },
  {
   "cell_type": "code",
   "execution_count": 2095,
   "metadata": {},
   "outputs": [],
   "source": [
    "# Rank por Setor"
   ]
  },
  {
   "cell_type": "code",
   "execution_count": 1964,
   "metadata": {},
   "outputs": [],
   "source": [
    "sector_incident_type = raw_use_of_force.groupby(['Precinct', 'Sector', 'Incident_Type'])['Incident_Num'].count()"
   ]
  },
  {
   "cell_type": "code",
   "execution_count": 1965,
   "metadata": {
    "scrolled": true
   },
   "outputs": [],
   "source": [
    "sector_incidente_percent = sector_incident_type.groupby(level=1).apply(lambda x: x * 100/ x.sum()).reset_index()"
   ]
  },
  {
   "cell_type": "code",
   "execution_count": 2093,
   "metadata": {
    "scrolled": true
   },
   "outputs": [],
   "source": [
    "# Selecionando apenas incidentes do level 2, renomeando o campo e odernando o dataframe\n",
    "\n",
    "is_level_2 = sector_incidente_percent['Incident_Type'] == 'Level 2 - Use of Force'\n",
    "sector_incidente_percent = sector_incidente_percent[is_level_2]\n",
    "sector_incidente_percent.rename(columns={'Incident_Num': 'Percent'}, inplace=True)\n",
    "sector_incidente_percent.sort_values(by='Percent', ascending=True, inplace=True)\n",
    "sector_incidente_percent.set_index(['Precinct', 'Sector'], inplace=True)"
   ]
  },
  {
   "cell_type": "code",
   "execution_count": 2108,
   "metadata": {},
   "outputs": [
    {
     "ename": "TypeError",
     "evalue": "'str' object is not callable",
     "output_type": "error",
     "traceback": [
      "\u001b[1;31m---------------------------------------------------------------------------\u001b[0m",
      "\u001b[1;31mTypeError\u001b[0m                                 Traceback (most recent call last)",
      "\u001b[1;32m<ipython-input-2108-d0f3ed05b7c1>\u001b[0m in \u001b[0;36m<module>\u001b[1;34m()\u001b[0m\n\u001b[0;32m      1\u001b[0m \u001b[0msector_incidente_percent\u001b[0m\u001b[1;33m.\u001b[0m\u001b[0mplot\u001b[0m\u001b[1;33m(\u001b[0m\u001b[0mkind\u001b[0m\u001b[1;33m=\u001b[0m\u001b[1;34m'barh'\u001b[0m\u001b[1;33m,\u001b[0m \u001b[0mfigsize\u001b[0m\u001b[1;33m=\u001b[0m\u001b[1;33m(\u001b[0m\u001b[1;36m15\u001b[0m\u001b[1;33m,\u001b[0m \u001b[1;36m5\u001b[0m\u001b[1;33m)\u001b[0m\u001b[1;33m)\u001b[0m\u001b[1;33m\u001b[0m\u001b[0m\n\u001b[0;32m      2\u001b[0m \u001b[0mplt\u001b[0m\u001b[1;33m.\u001b[0m\u001b[0mylabel\u001b[0m\u001b[1;33m=\u001b[0m\u001b[1;34m'Delegacia, Setor'\u001b[0m\u001b[1;33m\u001b[0m\u001b[0m\n\u001b[1;32m----> 3\u001b[1;33m \u001b[0mplt\u001b[0m\u001b[1;33m.\u001b[0m\u001b[0mylabel\u001b[0m\u001b[1;33m(\u001b[0m\u001b[1;34m'Delegacia, Setor'\u001b[0m\u001b[1;33m)\u001b[0m\u001b[1;33m\u001b[0m\u001b[0m\n\u001b[0m\u001b[0;32m      4\u001b[0m \u001b[0mplt\u001b[0m\u001b[1;33m.\u001b[0m\u001b[0mlegend\u001b[0m\u001b[1;33m(\u001b[0m\u001b[1;33m[\u001b[0m\u001b[1;34m'Porcentagem'\u001b[0m\u001b[1;33m]\u001b[0m\u001b[1;33m,\u001b[0m \u001b[0mfontsize\u001b[0m\u001b[1;33m=\u001b[0m\u001b[1;36m15\u001b[0m\u001b[1;33m)\u001b[0m\u001b[1;33m\u001b[0m\u001b[0m\n\u001b[0;32m      5\u001b[0m \u001b[0mplt\u001b[0m\u001b[1;33m.\u001b[0m\u001b[0mtitle\u001b[0m\u001b[1;33m(\u001b[0m\u001b[1;34m'Porcentagem de Incidentes level 2 por Setor'\u001b[0m\u001b[1;33m,\u001b[0m \u001b[0mfontsize\u001b[0m\u001b[1;33m=\u001b[0m\u001b[1;36m16\u001b[0m\u001b[1;33m)\u001b[0m\u001b[1;33m\u001b[0m\u001b[0m\n",
      "\u001b[1;31mTypeError\u001b[0m: 'str' object is not callable"
     ]
    },
    {
     "data": {
      "image/png": "[encoded data removed]",
      "text/plain": [
       "<Figure size 1080x360 with 1 Axes>"
      ]
     },
     "metadata": {
      "needs_background": "light"
     },
     "output_type": "display_data"
    }
   ],
   "source": [
    "sector_incidente_percent.plot(kind='barh', figsize=(15, 5))\n",
    "# plt.ylabel='Delegacia, Setor'\n",
    "# plt.ylabel('Delegacia, Setor')\n",
    "plt.legend(['Porcentagem'], fontsize=15)\n",
    "plt.title('Porcentagem de Incidentes level 2 por Setor', fontsize=16)"
   ]
  },
  {
   "cell_type": "markdown",
   "metadata": {},
   "source": [
    "##### 2. Com relação à distribuição dos incidentes no tempo, é possível encontrar picos ou linhas de tendência dentro dos dias, dos meses, das semanas ou dos anos?"
   ]
  },
  {
   "cell_type": "markdown",
   "metadata": {},
   "source": [
    "### Incidentes por dia"
   ]
  },
  {
   "cell_type": "code",
   "execution_count": 1968,
   "metadata": {},
   "outputs": [],
   "source": [
    "incident_date_day = raw_use_of_force.copy()"
   ]
  },
  {
   "cell_type": "code",
   "execution_count": 1969,
   "metadata": {
    "scrolled": true
   },
   "outputs": [],
   "source": [
    "# Foi obtido apenas a data sem o horário e agrupado por esse campo\n",
    "\n",
    "incident_date_day['date'] = pd.to_datetime(incident_date_day['Occured_date_time']).dt.to_period('D')\n",
    "incident_date_day = incident_date_day.groupby(['date']).count()\n",
    "\n",
    "# Foi selecionado apenas o campo Incident_Num, que expressa mais fielmente a quantidade agrupada pelo seu valor único\n",
    "# Também foi renomeado o compo Incident_Num para Quantity e os dados foram ordenados\n",
    "\n",
    "incident_date_day = incident_date_day[['Incident_Num']]\n",
    "incident_date_day.rename(columns={'Incident_Num': 'Quantity'}, inplace=True)"
   ]
  },
  {
   "cell_type": "code",
   "execution_count": 1970,
   "metadata": {},
   "outputs": [
    {
     "data": {
      "text/plain": [
       "<matplotlib.axes._subplots.AxesSubplot at 0x140c0b1dd68>"
      ]
     },
     "execution_count": 1970,
     "metadata": {},
     "output_type": "execute_result"
    },
    {
     "data": {
      "image/png": "[encoded data removed]",
      "text/plain": [
       "<Figure size 1152x432 with 1 Axes>"
      ]
     },
     "metadata": {
      "needs_background": "light"
     },
     "output_type": "display_data"
    }
   ],
   "source": [
    "fig, ax = plt.subplots(figsize=(16, 6))\n",
    "incident_date_day.plot(ax=ax, kind='area')\n",
    "# plt.yscale('linear')"
   ]
  },
  {
   "cell_type": "markdown",
   "metadata": {},
   "source": [
    "### Incidentes por ano-mês"
   ]
  },
  {
   "cell_type": "code",
   "execution_count": 1971,
   "metadata": {},
   "outputs": [],
   "source": [
    "incident_date_year_month = raw_use_of_force.copy()"
   ]
  },
  {
   "cell_type": "code",
   "execution_count": 1972,
   "metadata": {
    "scrolled": true
   },
   "outputs": [],
   "source": [
    "incident_date_year_month['year_month'] = incident_date_year_month['Occured_date_time'].dt.to_period('M')"
   ]
  },
  {
   "cell_type": "code",
   "execution_count": 1973,
   "metadata": {},
   "outputs": [],
   "source": [
    "incident_date_year_month = incident_date_year_month.groupby(['year_month']).count()"
   ]
  },
  {
   "cell_type": "code",
   "execution_count": 1974,
   "metadata": {
    "scrolled": true
   },
   "outputs": [],
   "source": [
    "# Selecionando apenas um campo onde existe a contagem e renomeando.\n",
    "\n",
    "incident_date_year_month = incident_date_year_month[['Incident_Num']]\n",
    "incident_date_year_month.rename(columns={'Incident_Num': 'Quantity'}, inplace=True)"
   ]
  },
  {
   "cell_type": "code",
   "execution_count": 1975,
   "metadata": {},
   "outputs": [
    {
     "data": {
      "text/plain": [
       "[Text(0.5,0,'by Month')]"
      ]
     },
     "execution_count": 1975,
     "metadata": {},
     "output_type": "execute_result"
    },
    {
     "data": {
      "image/png": "[encoded data removed]",
      "text/plain": [
       "<Figure size 1152x288 with 1 Axes>"
      ]
     },
     "metadata": {
      "needs_background": "light"
     },
     "output_type": "display_data"
    }
   ],
   "source": [
    "fig, ax = plt.subplots(figsize=(16, 4))\n",
    "incident_date_year_month.plot(ls=\"-\", lw=\"1\", marker=\"o\", ax=ax)\n",
    "ax.set(xlabel=\"by Month\")"
   ]
  },
  {
   "cell_type": "markdown",
   "metadata": {},
   "source": [
    "### Incidentes por semana"
   ]
  },
  {
   "cell_type": "code",
   "execution_count": 1976,
   "metadata": {},
   "outputs": [],
   "source": [
    "incident_date_week = raw_use_of_force.copy()"
   ]
  },
  {
   "cell_type": "code",
   "execution_count": 1977,
   "metadata": {},
   "outputs": [],
   "source": [
    "incident_date_week['week'] = pd.to_datetime(incident_date_week['Occured_date_time']).dt.to_period('W')"
   ]
  },
  {
   "cell_type": "code",
   "execution_count": 1978,
   "metadata": {},
   "outputs": [],
   "source": [
    "incident_date_week = incident_date_week.groupby(['week']).count()"
   ]
  },
  {
   "cell_type": "code",
   "execution_count": 1979,
   "metadata": {},
   "outputs": [],
   "source": [
    "# Selecionando apenas um campo onde existe a contagem e renomeando.\n",
    "\n",
    "incident_date_week = incident_date_week[['Incident_Num']]\n",
    "incident_date_week.rename(columns={'Incident_Num': 'Quantity'}, inplace=True)"
   ]
  },
  {
   "cell_type": "code",
   "execution_count": 1980,
   "metadata": {
    "scrolled": true
   },
   "outputs": [
    {
     "data": {
      "text/plain": [
       "[Text(0.5,0,'by Week')]"
      ]
     },
     "execution_count": 1980,
     "metadata": {},
     "output_type": "execute_result"
    },
    {
     "data": {
      "image/png": "[encoded data removed]",
      "text/plain": [
       "<Figure size 1152x288 with 1 Axes>"
      ]
     },
     "metadata": {
      "needs_background": "light"
     },
     "output_type": "display_data"
    }
   ],
   "source": [
    "fig, ax = plt.subplots(figsize=(16, 4))\n",
    "incident_date_week.plot(ls=\"-\", lw=\"1\", ax=ax)\n",
    "ax.set(xlabel=\"by Week\")"
   ]
  },
  {
   "cell_type": "markdown",
   "metadata": {},
   "source": [
    "### Incidentes por ano"
   ]
  },
  {
   "cell_type": "code",
   "execution_count": 1981,
   "metadata": {},
   "outputs": [],
   "source": [
    "incident_date_year = raw_use_of_force.copy()"
   ]
  },
  {
   "cell_type": "code",
   "execution_count": 1982,
   "metadata": {},
   "outputs": [],
   "source": [
    "incident_date_year['year'] = pd.to_datetime(incident_date_year['Occured_date_time']).dt.to_period('Y')"
   ]
  },
  {
   "cell_type": "code",
   "execution_count": 1983,
   "metadata": {},
   "outputs": [],
   "source": [
    "incident_date_year = incident_date_year.groupby(['year']).count()"
   ]
  },
  {
   "cell_type": "code",
   "execution_count": 1984,
   "metadata": {},
   "outputs": [],
   "source": [
    "# Selecionando apenas um campo onde existe a contagem e renomeando.\n",
    "\n",
    "incident_date_year = incident_date_year[['Incident_Num']]\n",
    "incident_date_year.rename(columns={'Incident_Num': 'Quantity'}, inplace=True)"
   ]
  },
  {
   "cell_type": "code",
   "execution_count": 1985,
   "metadata": {},
   "outputs": [
    {
     "data": {
      "text/plain": [
       "[Text(0.5,0,'Year')]"
      ]
     },
     "execution_count": 1985,
     "metadata": {},
     "output_type": "execute_result"
    },
    {
     "data": {
      "image/png": "[encoded data removed]",
      "text/plain": [
       "<Figure size 1152x288 with 1 Axes>"
      ]
     },
     "metadata": {
      "needs_background": "light"
     },
     "output_type": "display_data"
    }
   ],
   "source": [
    "fig, ax = plt.subplots(figsize=(16, 4))\n",
    "incident_date_year.plot(lw='3', ax=ax)\n",
    "ax.set(xlabel=\"Year\")"
   ]
  },
  {
   "cell_type": "markdown",
   "metadata": {},
   "source": [
    "##### 3. A polícia deseja dar início a uma investigação interna para verificar se existem policiais excessivamente violentos. No entanto, o prazo para o término desta investigação é bastante limitado. Elabore um script capaz de elencar os policiais em ordem decrescente de chance de violência excessiva com base no número de incidentes dos quais eles participaram.\n",
    "\n"
   ]
  },
  {
   "cell_type": "code",
   "execution_count": 1986,
   "metadata": {},
   "outputs": [],
   "source": [
    "incident_office = raw_use_of_force.groupby(['Officer_ID'])['Incident_Num'].count()"
   ]
  },
  {
   "cell_type": "code",
   "execution_count": 1987,
   "metadata": {},
   "outputs": [],
   "source": [
    "# Resetado o índice, calculada a percentagem e ordenados os valores.\n",
    "\n",
    "incident_office = incident_office.reset_index()\n",
    "incident_office['percentage'] = incident_office['Incident_Num'] * 100/incident_office['Incident_Num'].sum()\n",
    "incident_office.sort_values(by='percentage', ascending=False, inplace=True)"
   ]
  },
  {
   "cell_type": "code",
   "execution_count": 1988,
   "metadata": {},
   "outputs": [],
   "source": [
    "# Recuperando o top 10 de policiais com mais incidentes para gerar um gráfico. \n",
    "\n",
    "incident_office_top_10 = incident_office.head(10).copy()\n",
    "incident_office_top_10.sort_values(by='percentage', ascending=True, inplace=True)"
   ]
  },
  {
   "cell_type": "code",
   "execution_count": 1989,
   "metadata": {},
   "outputs": [
    {
     "data": {
      "text/plain": [
       "[Text(0.5,0,'Percentage %')]"
      ]
     },
     "execution_count": 1989,
     "metadata": {},
     "output_type": "execute_result"
    },
    {
     "data": {
      "image/png": "[encoded data removed]",
      "text/plain": [
       "<Figure size 1152x288 with 1 Axes>"
      ]
     },
     "metadata": {
      "needs_background": "light"
     },
     "output_type": "display_data"
    }
   ],
   "source": [
    "fig, ax = plt.subplots(figsize=(16, 4))\n",
    "incident_office_top_10.plot(x='Officer_ID', y='percentage', kind='barh', ax=ax)\n",
    "ax.set(xlabel=\"Percentage %\")"
   ]
  },
  {
   "cell_type": "markdown",
   "metadata": {},
   "source": [
    "###### 4. Uma métrica interessante para a polícia é o grau de reincidência por parte dos civis. Apresente o percentual de casos reincidentes em relação ao total de incidentes em cada setor e verifique se há correlação entre esta métrica e o percentual de incidentes \"Level 2\" calculado na questão 1. Que interpretação pode ser dada a este resultado?"
   ]
  },
  {
   "cell_type": "code",
   "execution_count": 1990,
   "metadata": {},
   "outputs": [],
   "source": [
    "incident_sector_subject = raw_use_of_force.groupby(['Precinct', 'Sector', 'Subject_ID']).count()"
   ]
  },
  {
   "cell_type": "code",
   "execution_count": 1991,
   "metadata": {
    "scrolled": true
   },
   "outputs": [],
   "source": [
    "# Foi selecionado apenas o campo Incident_Num, que expressa mais fielmente a quantidade agrupada pelo seu valor único.\n",
    "# Quando houver reincidência, ou seja, quando o incidente ocorrer mais de uma vez, \n",
    "# o campo 'Repeated' é verdadeiro, se não, falso.\n",
    "\n",
    "incident_sector_subject = incident_sector_subject[['Incident_Num']]\n",
    "incident_sector_subject.loc[incident_sector_subject['Incident_Num'] >= 2, 'Repeated'] = True\n",
    "incident_sector_subject.loc[incident_sector_subject['Incident_Num'] == 1, 'Repeated'] = False"
   ]
  },
  {
   "cell_type": "code",
   "execution_count": 1992,
   "metadata": {
    "scrolled": true
   },
   "outputs": [],
   "source": [
    "incident_sector_subject_count = incident_sector_subject.groupby(['Precinct', 'Sector', 'Repeated']).count()"
   ]
  },
  {
   "cell_type": "code",
   "execution_count": 1993,
   "metadata": {
    "scrolled": true
   },
   "outputs": [],
   "source": [
    "# Calculanda a porcentagem, redefinidos os índices do dataframe, renomeado o campo 'Incident_Num' e ordenados os valores\n",
    "\n",
    "incident_sector_subject_count = incident_sector_subject_count.groupby(level=1).apply(lambda x: x * 100/ x.sum())\n",
    "incident_sector_subject_count.reset_index(inplace=True)\n",
    "# incident_sector_subject_count.set_index(['Precinct', 'Sector'], inplace=True)\n",
    "incident_sector_subject_count.rename(columns={'Incident_Num': 'Percent'}, inplace=True)\n",
    "incident_sector_subject_count.sort_values(by='Sector', ascending=False, inplace=True)"
   ]
  },
  {
   "cell_type": "code",
   "execution_count": 1994,
   "metadata": {
    "scrolled": true
   },
   "outputs": [],
   "source": [
    "sector_incidente_percent.reset_index(inplace=True)"
   ]
  },
  {
   "cell_type": "code",
   "execution_count": 1995,
   "metadata": {
    "scrolled": true
   },
   "outputs": [
    {
     "data": {
      "text/html": [
       "<div>\n",
       "<style scoped>\n",
       "    .dataframe tbody tr th:only-of-type {\n",
       "        vertical-align: middle;\n",
       "    }\n",
       "\n",
       "    .dataframe tbody tr th {\n",
       "        vertical-align: top;\n",
       "    }\n",
       "\n",
       "    .dataframe thead th {\n",
       "        text-align: right;\n",
       "    }\n",
       "</style>\n",
       "<table border=\"1\" class=\"dataframe\">\n",
       "  <thead>\n",
       "    <tr style=\"text-align: right;\">\n",
       "      <th></th>\n",
       "      <th>Precinct</th>\n",
       "      <th>Sector</th>\n",
       "      <th>Repeated</th>\n",
       "      <th>Percent</th>\n",
       "    </tr>\n",
       "  </thead>\n",
       "  <tbody>\n",
       "    <tr>\n",
       "      <th>25</th>\n",
       "      <td>SW</td>\n",
       "      <td>W</td>\n",
       "      <td>True</td>\n",
       "      <td>38.461538</td>\n",
       "    </tr>\n",
       "    <tr>\n",
       "      <th>15</th>\n",
       "      <td>N</td>\n",
       "      <td>U</td>\n",
       "      <td>True</td>\n",
       "      <td>37.864078</td>\n",
       "    </tr>\n",
       "    <tr>\n",
       "      <th>21</th>\n",
       "      <td>S</td>\n",
       "      <td>S</td>\n",
       "      <td>True</td>\n",
       "      <td>27.390181</td>\n",
       "    </tr>\n",
       "    <tr>\n",
       "      <th>19</th>\n",
       "      <td>S</td>\n",
       "      <td>R</td>\n",
       "      <td>True</td>\n",
       "      <td>25.287356</td>\n",
       "    </tr>\n",
       "    <tr>\n",
       "      <th>33</th>\n",
       "      <td>W</td>\n",
       "      <td>Q</td>\n",
       "      <td>True</td>\n",
       "      <td>30.370370</td>\n",
       "    </tr>\n",
       "  </tbody>\n",
       "</table>\n",
       "</div>"
      ],
      "text/plain": [
       "   Precinct Sector  Repeated    Percent\n",
       "25       SW      W      True  38.461538\n",
       "15        N      U      True  37.864078\n",
       "21        S      S      True  27.390181\n",
       "19        S      R      True  25.287356\n",
       "33        W      Q      True  30.370370"
      ]
     },
     "execution_count": 1995,
     "metadata": {},
     "output_type": "execute_result"
    }
   ],
   "source": [
    "is_repeated = incident_sector_subject_count['Repeated'] == True\n",
    "incident_sector_subject_count = incident_sector_subject_count[is_repeated]\n",
    "incident_sector_subject_count.head(5)"
   ]
  },
  {
   "cell_type": "code",
   "execution_count": 1996,
   "metadata": {},
   "outputs": [],
   "source": [
    "sector_incidente_percent.sort_values(by='Sector', ascending=False, inplace=True)"
   ]
  },
  {
   "cell_type": "code",
   "execution_count": 1997,
   "metadata": {},
   "outputs": [
    {
     "data": {
      "text/plain": [
       "<matplotlib.legend.Legend at 0x140c21d85f8>"
      ]
     },
     "execution_count": 1997,
     "metadata": {},
     "output_type": "execute_result"
    },
    {
     "data": {
      "image/png": "[encoded data removed]",
      "text/plain": [
       "<Figure size 1152x288 with 1 Axes>"
      ]
     },
     "metadata": {
      "needs_background": "light"
     },
     "output_type": "display_data"
    }
   ],
   "source": [
    "fig, ax = plt.subplots(figsize=(16, 4))\n",
    "# incident_sector_subject_count.plot(y='Percent', x='Sector', ax=ax, kind='bar', stacked=True, subplots=True)\n",
    "# sector_incidente_percent.plot(y='Percent', x='Sector', ax=ax, kind='bar', stacked=True, subplots=True)\n",
    "\n",
    "\n",
    "\n",
    "sns.set_color_codes(\"pastel\")\n",
    "sns.barplot(x=incident_sector_subject_count['Sector'], y=incident_sector_subject_count['Percent'],\n",
    "            color='b', label='Repeated Incident')\n",
    "ax.legend(ncol=2, loc=\"upper right\", frameon=True)"
   ]
  },
  {
   "cell_type": "code",
   "execution_count": 1998,
   "metadata": {},
   "outputs": [
    {
     "data": {
      "text/plain": [
       "<matplotlib.legend.Legend at 0x140c0beb400>"
      ]
     },
     "execution_count": 1998,
     "metadata": {},
     "output_type": "execute_result"
    },
    {
     "data": {
      "image/png": "[encoded data removed]",
      "text/plain": [
       "<Figure size 1152x288 with 1 Axes>"
      ]
     },
     "metadata": {
      "needs_background": "light"
     },
     "output_type": "display_data"
    }
   ],
   "source": [
    "fig, ax = plt.subplots(figsize=(16, 4))\n",
    "sns.set_color_codes(\"muted\")\n",
    "sns.barplot(x=sector_incidente_percent['Sector'], y=sector_incidente_percent['Percent'], color='b',\n",
    "           label='Lelve 2 Incident')\n",
    "ax.legend(ncol=2, loc=\"upper right\", frameon=True)"
   ]
  },
  {
   "cell_type": "markdown",
   "metadata": {},
   "source": [
    "## Aprendizagem de Máquina\n"
   ]
  },
  {
   "cell_type": "markdown",
   "metadata": {},
   "source": [
    "#### 5. A liderança do Departamento de Polícia de Seattle manifestou o interesse em uma aplicação que classifica os incidentes em \"Level 1\" ou \"Level 2\" com base em outras colunas da tabela e lhe requisitou um parecer sobre esta proposta. Descreva os desafios envolvidos, enumere fatores que fomentem a criação deste classificador e sugira um modelo estatístico para executar esta tarefa, justificando a sua escolha. P.S.: Sua justificativa deve conter explicação teórica de ao menos dois algoritmos, um benchmark destas soluções candidatas de tempo e performance, os experimentos e análise do bias variance threshold.\n",
    "\n"
   ]
  },
  {
   "cell_type": "markdown",
   "metadata": {},
   "source": [
    "### Data Preparation "
   ]
  },
  {
   "cell_type": "code",
   "execution_count": 1999,
   "metadata": {},
   "outputs": [
    {
     "name": "stdout",
     "output_type": "stream",
     "text": [
      "<class 'pandas.core.frame.DataFrame'>\n",
      "Int64Index: 7718 entries, 0 to 8060\n",
      "Data columns (total 11 columns):\n",
      "ID                   7718 non-null object\n",
      "Incident_Num         7718 non-null int64\n",
      "Incident_Type        7718 non-null object\n",
      "Occured_date_time    7718 non-null datetime64[ns]\n",
      "Precinct             7111 non-null object\n",
      "Sector               7111 non-null object\n",
      "Beat                 7111 non-null object\n",
      "Officer_ID           7718 non-null int64\n",
      "Subject_ID           7718 non-null int64\n",
      "Subject_Race         6456 non-null object\n",
      "Subject_Gender       7533 non-null object\n",
      "dtypes: datetime64[ns](1), int64(3), object(7)\n",
      "memory usage: 723.6+ KB\n"
     ]
    }
   ],
   "source": [
    "# Os tratamentos que fizemos nos dados na parte de análise vão ser aproveitados e outros serão realizados.\n",
    "\n",
    "raw_use_of_force.info()"
   ]
  },
  {
   "cell_type": "code",
   "execution_count": 2000,
   "metadata": {},
   "outputs": [],
   "source": [
    "from sklearn.preprocessing import LabelEncoder\n",
    "from sklearn.naive_bayes import GaussianNB\n",
    "from sklearn.neighbors import KNeighborsClassifier\n",
    "from sklearn.metrics import accuracy_score\n",
    "from sklearn.impute import SimpleImputer\n",
    "from sklearn.preprocessing import OrdinalEncoder\n",
    "from sklearn.model_selection import train_test_split\n",
    "from sklearn.model_selection import StratifiedShuffleSplit"
   ]
  },
  {
   "cell_type": "markdown",
   "metadata": {},
   "source": [
    "#### Apagando valores faltosos\n"
   ]
  },
  {
   "cell_type": "code",
   "execution_count": 2033,
   "metadata": {},
   "outputs": [
    {
     "name": "stdout",
     "output_type": "stream",
     "text": [
      "<class 'pandas.core.frame.DataFrame'>\n",
      "RangeIndex: 5968 entries, 0 to 5967\n",
      "Data columns (total 12 columns):\n",
      "index                5968 non-null int64\n",
      "ID                   5968 non-null object\n",
      "Incident_Num         5968 non-null int64\n",
      "Incident_Type        5968 non-null object\n",
      "Occured_date_time    5968 non-null datetime64[ns]\n",
      "Precinct             5968 non-null object\n",
      "Sector               5968 non-null object\n",
      "Beat                 5968 non-null object\n",
      "Officer_ID           5968 non-null int64\n",
      "Subject_ID           5968 non-null int64\n",
      "Subject_Race         5968 non-null object\n",
      "Subject_Gender       5968 non-null object\n",
      "dtypes: datetime64[ns](1), int64(4), object(7)\n",
      "memory usage: 559.6+ KB\n"
     ]
    }
   ],
   "source": [
    "use_of_force = raw_use_of_force.dropna()\n",
    "use_of_force.reset_index(inplace=True)\n",
    "use_of_force.info()"
   ]
  },
  {
   "cell_type": "markdown",
   "metadata": {},
   "source": [
    "#### Substituindo valores faltosos"
   ]
  },
  {
   "cell_type": "code",
   "execution_count": 2002,
   "metadata": {},
   "outputs": [],
   "source": [
    "imp = SimpleImputer(strategy=\"most_frequent\")\n",
    "use_of_force_mf = imp.fit_transform(raw_use_of_force)"
   ]
  },
  {
   "cell_type": "code",
   "execution_count": 2003,
   "metadata": {},
   "outputs": [],
   "source": [
    "# Iniciamos os encoder para transformar os valores do tipo de categoria para númerico.\n",
    "# OrdinalEncoder transforma os valores categoricos em númericos em ordem de 0 até #_categoria -1\n",
    "# LabelEncoder realiza o mesmo trabalho que o OrdinalEncoder porém é focado na classe de teste(y)\n",
    "\n",
    "enc = OrdinalEncoder()\n",
    "lb_encoder = LabelEncoder()"
   ]
  },
  {
   "cell_type": "markdown",
   "metadata": {},
   "source": [
    "### Transformando os dados com valores faltosos apagados"
   ]
  },
  {
   "cell_type": "code",
   "execution_count": 2004,
   "metadata": {},
   "outputs": [],
   "source": [
    "# Separamos a classe que vamos tentar estimar.\n",
    "\n",
    "y_df = use_of_force[['Incident_Type']].copy()\n",
    "y_df['Incident_Type'] = lb_encoder.fit_transform(y_df['Incident_Type'])"
   ]
  },
  {
   "cell_type": "code",
   "execution_count": 2005,
   "metadata": {},
   "outputs": [
    {
     "data": {
      "text/plain": [
       "(5968,)"
      ]
     },
     "execution_count": 2005,
     "metadata": {},
     "output_type": "execute_result"
    }
   ],
   "source": [
    "y = y_df['Incident_Type']\n",
    "y.shape"
   ]
  },
  {
   "cell_type": "code",
   "execution_count": 2006,
   "metadata": {},
   "outputs": [
    {
     "data": {
      "text/plain": [
       "(5968, 11)"
      ]
     },
     "execution_count": 2006,
     "metadata": {},
     "output_type": "execute_result"
    }
   ],
   "source": [
    "# Retiramos do conjunto principal a classe que vamos estimar.\n",
    "\n",
    "X_raw = use_of_force.drop(columns='Incident_Type', axis=1)\n",
    "X = enc.fit_transform(X_raw)\n",
    "X.shape"
   ]
  },
  {
   "cell_type": "code",
   "execution_count": 2007,
   "metadata": {},
   "outputs": [],
   "source": [
    "# Com StratifiedShuffleSplit embaralhamos os dados e dividimos em 20% teste e 80% treinamento.\n",
    "\n",
    "sss = StratifiedShuffleSplit(test_size=0.2, n_splits=2)\n",
    "indicies_1, indicies_2 = sss.split(X,y)\n",
    "X_train, X_test, y_train, y_test = X[indicies_1[0]], X[indicies_1[1]], y[indicies_1[0]], y[indicies_1[1]]"
   ]
  },
  {
   "cell_type": "markdown",
   "metadata": {},
   "source": [
    "### Transformando os dados com valores faltosos substituídos"
   ]
  },
  {
   "cell_type": "code",
   "execution_count": 2008,
   "metadata": {},
   "outputs": [
    {
     "data": {
      "text/plain": [
       "(5968,)"
      ]
     },
     "execution_count": 2008,
     "metadata": {},
     "output_type": "execute_result"
    }
   ],
   "source": [
    "# Separamos a classe que vamos tentar estimar\n",
    "\n",
    "y_df_mf = use_of_force[['Incident_Type']].copy()\n",
    "y_df_mf['Incident_Type'] = lb_encoder.fit_transform(y_df_mf['Incident_Type'])\n",
    "y_mf = y_df_mf['Incident_Type']\n",
    "y_mf.shape"
   ]
  },
  {
   "cell_type": "code",
   "execution_count": 2009,
   "metadata": {},
   "outputs": [
    {
     "data": {
      "text/plain": [
       "(5968, 11)"
      ]
     },
     "execution_count": 2009,
     "metadata": {},
     "output_type": "execute_result"
    }
   ],
   "source": [
    "# Retiramos do conjunto principal a classe que vamos estimar.\n",
    "\n",
    "X_raw_mf = use_of_force.drop(columns='Incident_Type', axis=1)\n",
    "X_mf = enc.fit_transform(X_raw_mf)\n",
    "X_mf.shape"
   ]
  },
  {
   "cell_type": "code",
   "execution_count": 2010,
   "metadata": {},
   "outputs": [],
   "source": [
    "# Com StratifiedShuffleSplit embaralhamos os dados e dividimos em 20% teste e 80% treinamento.\n",
    "\n",
    "sss = StratifiedShuffleSplit(test_size=0.2, n_splits=2)\n",
    "indicies_1, indicies_2 = sss.split(X_mf,y_mf)\n",
    "X_train_mf, X_test_mf, y_train_mf, y_test_mf = X_mf[indicies_1[0]], X_mf[indicies_1[1]], y_mf[indicies_1[0]], y_mf[indicies_1[1]]"
   ]
  },
  {
   "cell_type": "markdown",
   "metadata": {},
   "source": [
    "## KNN"
   ]
  },
  {
   "cell_type": "markdown",
   "metadata": {},
   "source": [
    "#### KNN, K nearest neighbors, usa um conjunto de pontos próximos ao ponto alvo, vizinhos, para determinar a classe a que esse ponto pertence. Podemos definir quantos pontos serão usados para classificar o ponto. Não existe um número padrão de vizinhos, cada problema tem a sua particularidade e, através de testes, podemos encontrar o número que vai fornecer a maior acurácia.\n",
    "#### Para o cálcudo da distância entre os pontos vizinhos e o ponto a ser classificado, podem ser usadas várias métricas de distâncias, porém a distância euclidiana é a mais comum.\n",
    "\n",
    "#### KNN foi escolhido por causa de algumas de suas características: aprimoramento contínuo, o classificador rapidamente se adapta a novos dados e tem um bom desempenho com poucas colunas."
   ]
  },
  {
   "cell_type": "markdown",
   "metadata": {},
   "source": [
    "### Trabalhando com valores faltosos que foram apagados"
   ]
  },
  {
   "cell_type": "code",
   "execution_count": 2011,
   "metadata": {},
   "outputs": [],
   "source": [
    "# Depois de ter feitos testes com o # de vizinhos de 3 até 10 o # de vizinhos igual a 4 foi o que teve melhor resultado.\n",
    "\n",
    "knn3 = KNeighborsClassifier(n_neighbors=3)\n",
    "knn4 = KNeighborsClassifier(n_neighbors=4)\n",
    "knn5 = KNeighborsClassifier() # 5\n",
    "knn6 = KNeighborsClassifier(n_neighbors=6)\n",
    "knn7 = KNeighborsClassifier(n_neighbors=7)\n",
    "knn8 = KNeighborsClassifier(n_neighbors=8)\n",
    "knn9 = KNeighborsClassifier(n_neighbors=9)\n",
    "knn10 = KNeighborsClassifier(n_neighbors=10)\n"
   ]
  },
  {
   "cell_type": "code",
   "execution_count": 2012,
   "metadata": {},
   "outputs": [
    {
     "name": "stdout",
     "output_type": "stream",
     "text": [
      "2.71 ms ± 22.6 µs per loop (mean ± std. dev. of 7 runs, 100 loops each)\n",
      "2.71 ms ± 41.4 µs per loop (mean ± std. dev. of 7 runs, 100 loops each)\n",
      "2.69 ms ± 13.9 µs per loop (mean ± std. dev. of 7 runs, 100 loops each)\n",
      "2.95 ms ± 287 µs per loop (mean ± std. dev. of 7 runs, 100 loops each)\n",
      "2.67 ms ± 9.77 µs per loop (mean ± std. dev. of 7 runs, 100 loops each)\n",
      "2.69 ms ± 30.6 µs per loop (mean ± std. dev. of 7 runs, 100 loops each)\n",
      "2.67 ms ± 10.9 µs per loop (mean ± std. dev. of 7 runs, 100 loops each)\n",
      "2.68 ms ± 13.5 µs per loop (mean ± std. dev. of 7 runs, 100 loops each)\n"
     ]
    }
   ],
   "source": [
    "# Treinando os modelos e verificando o tempo de processamento.\n",
    "\n",
    "%timeit knn3.fit(X_train, y_train)\n",
    "%timeit knn4.fit(X_train, y_train)\n",
    "%timeit knn5.fit(X_train, y_train)\n",
    "%timeit knn6.fit(X_train, y_train)\n",
    "%timeit knn7.fit(X_train, y_train)\n",
    "%timeit knn8.fit(X_train, y_train)\n",
    "%timeit knn9.fit(X_train, y_train)\n",
    "%timeit knn10.fit(X_train, y_train)"
   ]
  },
  {
   "cell_type": "code",
   "execution_count": 2013,
   "metadata": {},
   "outputs": [],
   "source": [
    "# Realizando as predições.\n",
    "\n",
    "knn_y_pred3 = knn3.predict(X_test)\n",
    "knn_y_pred4 = knn4.predict(X_test)\n",
    "knn_y_pred5 = knn5.predict(X_test)\n",
    "knn_y_pred6 = knn6.predict(X_test)\n",
    "knn_y_pred7 = knn7.predict(X_test)\n",
    "knn_y_pred8 = knn8.predict(X_test)\n",
    "knn_y_pred9 = knn9.predict(X_test)\n",
    "knn_y_pred10 = knn10.predict(X_test)"
   ]
  },
  {
   "cell_type": "code",
   "execution_count": 2014,
   "metadata": {},
   "outputs": [
    {
     "name": "stdout",
     "output_type": "stream",
     "text": [
      "3 vizinhos =  0.7772194304857621\n",
      "4 vizinhos =  0.7897822445561139\n",
      "5 vizinhos =  0.7788944723618091\n",
      "6 vizinhos =  0.7889447236180904\n",
      "7 vizinhos =  0.7889447236180904\n",
      "8 vizinhos =  0.7897822445561139\n",
      "9 vizinhos =  0.7897822445561139\n",
      "10 vizinhos =  0.7814070351758794\n"
     ]
    }
   ],
   "source": [
    "# Verificando a acurácia dos modelos.\n",
    "\n",
    "# print('2 vizinhos = ', accuracy_score(y_test, knn_y_pred2))\n",
    "print('3 vizinhos = ', accuracy_score(y_test, knn_y_pred3))\n",
    "print('4 vizinhos = ', accuracy_score(y_test, knn_y_pred4))\n",
    "print('5 vizinhos = ', accuracy_score(y_test, knn_y_pred5))\n",
    "print('6 vizinhos = ', accuracy_score(y_test, knn_y_pred6))\n",
    "print('7 vizinhos = ', accuracy_score(y_test, knn_y_pred7))\n",
    "print('8 vizinhos = ', accuracy_score(y_test, knn_y_pred8))\n",
    "print('9 vizinhos = ', accuracy_score(y_test, knn_y_pred9))\n",
    "print('10 vizinhos = ', accuracy_score(y_test, knn_y_pred10))"
   ]
  },
  {
   "cell_type": "markdown",
   "metadata": {},
   "source": [
    "#### Análise do Overfitting e Underfitting"
   ]
  },
  {
   "cell_type": "code",
   "execution_count": 2015,
   "metadata": {},
   "outputs": [],
   "source": [
    "# Análise com os dados de treinamento e teste.\n",
    "\n",
    "knn_x_pred = knn.predict(X_train)\n",
    "acc_train = accuracy_score(y_train, knn_x_pred)\n",
    "acc_test = accuracy_score(y_test, knn_y_pred4)"
   ]
  },
  {
   "cell_type": "markdown",
   "metadata": {},
   "source": [
    "#### Podemos perceber que os dados de treinamento tiveram um melhor desempenho, mas essa diferença foi pequena, revelando um pequeno overfitting."
   ]
  },
  {
   "cell_type": "code",
   "execution_count": 2016,
   "metadata": {},
   "outputs": [
    {
     "data": {
      "text/plain": [
       "(0.76, 0.82)"
      ]
     },
     "execution_count": 2016,
     "metadata": {},
     "output_type": "execute_result"
    },
    {
     "data": {
      "image/png": "[encoded data removed]",
      "text/plain": [
       "<Figure size 432x288 with 1 Axes>"
      ]
     },
     "metadata": {
      "needs_background": "light"
     },
     "output_type": "display_data"
    }
   ],
   "source": [
    "plt.bar(['Treinamento', 'Teste'],[acc_train, acc_test])\n",
    "plt.ylim(bottom=0.76, top=0.82)\n"
   ]
  },
  {
   "cell_type": "markdown",
   "metadata": {},
   "source": [
    "### Trabalhando com valores faltosos que foram substítuidos"
   ]
  },
  {
   "cell_type": "code",
   "execution_count": 2017,
   "metadata": {},
   "outputs": [],
   "source": [
    "# Depois de ter feitos testes com o # de vizinhos de 3 até 10 o # de vizinhos igual a 4 foi o que teve melhor resultado\n",
    "\n",
    "knn3_mf = KNeighborsClassifier(n_neighbors=3)\n",
    "knn4_mf = KNeighborsClassifier(n_neighbors=4)\n",
    "knn5_mf = KNeighborsClassifier() # 5\n",
    "knn6_mf = KNeighborsClassifier(n_neighbors=6)\n",
    "knn7_mf = KNeighborsClassifier(n_neighbors=7)\n",
    "knn8_mf = KNeighborsClassifier(n_neighbors=8)\n",
    "knn9_mf = KNeighborsClassifier(n_neighbors=9)\n",
    "knn10_mf = KNeighborsClassifier(n_neighbors=10)"
   ]
  },
  {
   "cell_type": "code",
   "execution_count": 2018,
   "metadata": {},
   "outputs": [
    {
     "name": "stdout",
     "output_type": "stream",
     "text": [
      "2.68 ms ± 16.1 µs per loop (mean ± std. dev. of 7 runs, 100 loops each)\n",
      "2.67 ms ± 12.6 µs per loop (mean ± std. dev. of 7 runs, 100 loops each)\n",
      "2.72 ms ± 62.4 µs per loop (mean ± std. dev. of 7 runs, 100 loops each)\n",
      "3.17 ms ± 471 µs per loop (mean ± std. dev. of 7 runs, 100 loops each)\n",
      "2.69 ms ± 6.59 µs per loop (mean ± std. dev. of 7 runs, 100 loops each)\n",
      "2.68 ms ± 19.9 µs per loop (mean ± std. dev. of 7 runs, 100 loops each)\n",
      "2.74 ms ± 18.6 µs per loop (mean ± std. dev. of 7 runs, 100 loops each)\n",
      "2.68 ms ± 13.7 µs per loop (mean ± std. dev. of 7 runs, 100 loops each)\n"
     ]
    }
   ],
   "source": [
    "# Treinando os modelos e verificando o tempo de processamento\n",
    "\n",
    "%timeit knn3_mf.fit(X_train_mf, y_train_mf)\n",
    "%timeit knn4_mf.fit(X_train_mf, y_train_mf)\n",
    "%timeit knn5_mf.fit(X_train_mf, y_train_mf)\n",
    "%timeit knn6_mf.fit(X_train_mf, y_train_mf)\n",
    "%timeit knn7_mf.fit(X_train_mf, y_train_mf)\n",
    "%timeit knn8_mf.fit(X_train_mf, y_train_mf)\n",
    "%timeit knn9_mf.fit(X_train_mf, y_train_mf)\n",
    "%timeit knn10_mf.fit(X_train_mf, y_train_mf)"
   ]
  },
  {
   "cell_type": "code",
   "execution_count": 2019,
   "metadata": {},
   "outputs": [],
   "source": [
    "# Realizando as predições\n",
    "\n",
    "knn_y_pred3_mf = knn3_mf.predict(X_test)\n",
    "knn_y_pred4_mf = knn4_mf.predict(X_test)\n",
    "knn_y_pred5_mf = knn5_mf.predict(X_test)\n",
    "knn_y_pred6_mf = knn6_mf.predict(X_test)\n",
    "knn_y_pred7_mf = knn7_mf.predict(X_test)\n",
    "knn_y_pred8_mf = knn8_mf.predict(X_test)\n",
    "knn_y_pred9_mf = knn9_mf.predict(X_test)\n",
    "knn_y_pred10_mf = knn10_mf.predict(X_test)"
   ]
  },
  {
   "cell_type": "code",
   "execution_count": 2020,
   "metadata": {},
   "outputs": [
    {
     "name": "stdout",
     "output_type": "stream",
     "text": [
      "3 vizinhos =  0.6591289782244556\n",
      "4 vizinhos =  0.7001675041876047\n",
      "5 vizinhos =  0.6700167504187605\n",
      "6 vizinhos =  0.6993299832495813\n",
      "7 vizinhos =  0.6750418760469011\n",
      "8 vizinhos =  0.6984924623115578\n",
      "9 vizinhos =  0.6867671691792295\n",
      "10 vizinhos =  0.7110552763819096\n"
     ]
    }
   ],
   "source": [
    "# Verificando a acurácia dos modelos\n",
    "\n",
    "# print('2 vizinhos = ', accuracy_score(y_test, knn_y_pred2))\n",
    "print('3 vizinhos = ', accuracy_score(y_test_mf, knn_y_pred3_mf))\n",
    "print('4 vizinhos = ', accuracy_score(y_test_mf, knn_y_pred4_mf))\n",
    "print('5 vizinhos = ', accuracy_score(y_test_mf, knn_y_pred5_mf))\n",
    "print('6 vizinhos = ', accuracy_score(y_test_mf, knn_y_pred6_mf))\n",
    "print('7 vizinhos = ', accuracy_score(y_test_mf, knn_y_pred7_mf))\n",
    "print('8 vizinhos = ', accuracy_score(y_test_mf, knn_y_pred8_mf))\n",
    "print('9 vizinhos = ', accuracy_score(y_test_mf, knn_y_pred9_mf))\n",
    "print('10 vizinhos = ', accuracy_score(y_test_mf, knn_y_pred10_mf))"
   ]
  },
  {
   "cell_type": "markdown",
   "metadata": {},
   "source": [
    "#### Análise do Overfitting e Underfitting"
   ]
  },
  {
   "cell_type": "code",
   "execution_count": 2021,
   "metadata": {},
   "outputs": [],
   "source": [
    "# Análise com os dados de treinamento e teste\n",
    "\n",
    "knn_x_pred_mf = knn.predict(X_train_mf)\n",
    "acc_train_mf = accuracy_score(y_train_mf, knn_x_pred_mf)\n",
    "acc_test_mf = accuracy_score(y_test_mf, knn_y_pred4_mf)"
   ]
  },
  {
   "cell_type": "markdown",
   "metadata": {},
   "source": [
    "#### Usando os dados com os valores faltosos substituidos em vez de apagados, o overfitting ficou mais atenuado e a acurácia dos dados de testes foi reduzida consideravelmente."
   ]
  },
  {
   "cell_type": "code",
   "execution_count": 2022,
   "metadata": {},
   "outputs": [
    {
     "data": {
      "text/plain": [
       "(0.65, 0.82)"
      ]
     },
     "execution_count": 2022,
     "metadata": {},
     "output_type": "execute_result"
    },
    {
     "data": {
      "image/png": "[encoded data removed]",
      "text/plain": [
       "<Figure size 432x288 with 1 Axes>"
      ]
     },
     "metadata": {
      "needs_background": "light"
     },
     "output_type": "display_data"
    }
   ],
   "source": [
    "plt.bar(['Treinamento', 'Teste'],[acc_train_mf, acc_test_mf])\n",
    "plt.ylim(bottom=0.65, top=0.82)"
   ]
  },
  {
   "cell_type": "markdown",
   "metadata": {},
   "source": [
    "### Naive Bayes"
   ]
  },
  {
   "cell_type": "markdown",
   "metadata": {},
   "source": [
    "#### Naive Bayes se baseia no teorena de Bayes e assume que as características do conjunto dos dados são independentes, ou seja, eles não estão relacionados uns com os outros. O teorema de Bayes utiliza informações de eventos anteriores para calcular a probabilidade de um evento acontecer.\n",
    "#### Apesar de ter características simples, o Naive Bayes é conhecido pelo seu desempenho em aplicações do mundo real, como classificação de documentos e filtro de spam. Além de ser rápido no aprendizado e na classificação comparado com outros classificadores.\n",
    "\n",
    "#### O Naive Bayes foi escolhido por ser rápido para treinamento e predição e ainda assim ter uma boa acurácia. Um outra característica importante é ser bastante resistente a overfit."
   ]
  },
  {
   "cell_type": "code",
   "execution_count": 2023,
   "metadata": {},
   "outputs": [],
   "source": [
    "gnb = GaussianNB()"
   ]
  },
  {
   "cell_type": "markdown",
   "metadata": {},
   "source": [
    "### Trabalhando com valores faltosos que foram apagados"
   ]
  },
  {
   "cell_type": "code",
   "execution_count": 2024,
   "metadata": {},
   "outputs": [
    {
     "name": "stdout",
     "output_type": "stream",
     "text": [
      "1.22 ms ± 25.9 µs per loop (mean ± std. dev. of 7 runs, 1000 loops each)\n"
     ]
    }
   ],
   "source": [
    "%timeit gnb.fit(X_train, y_train)"
   ]
  },
  {
   "cell_type": "code",
   "execution_count": 2025,
   "metadata": {},
   "outputs": [],
   "source": [
    "gnb_y_pred = gnb.predict(X_test)\n",
    "gnb_x_pred = gnb.predict(X_train)"
   ]
  },
  {
   "cell_type": "code",
   "execution_count": 2026,
   "metadata": {},
   "outputs": [],
   "source": [
    "acc_testNB = accuracy_score(y_test, gnb_y_pred)\n",
    "acc_trainNB = accuracy_score(y_train, gnb_x_pred)"
   ]
  },
  {
   "cell_type": "markdown",
   "metadata": {},
   "source": [
    "#### Análise do Overfitting e Underfitting"
   ]
  },
  {
   "cell_type": "markdown",
   "metadata": {},
   "source": [
    "#### Diferentemente do KNN a acurácia dos dados de testes foi maior que do dado de treinamento, ou seja aconteceu um underfitting. Contudo, a diferença não foi muito grande entre as acurácias."
   ]
  },
  {
   "cell_type": "code",
   "execution_count": 2027,
   "metadata": {},
   "outputs": [
    {
     "data": {
      "text/plain": [
       "(0.695, 0.725)"
      ]
     },
     "execution_count": 2027,
     "metadata": {},
     "output_type": "execute_result"
    },
    {
     "data": {
      "image/png": "[encoded data removed]",
      "text/plain": [
       "<Figure size 432x288 with 1 Axes>"
      ]
     },
     "metadata": {
      "needs_background": "light"
     },
     "output_type": "display_data"
    }
   ],
   "source": [
    "plt.bar(['Treinamento', 'Teste'],[acc_trainNB, acc_testNB])\n",
    "plt.ylim(bottom=0.695, top=0.725)"
   ]
  },
  {
   "cell_type": "markdown",
   "metadata": {},
   "source": [
    "### Trabalhando com valores faltosos que foram substítuidos"
   ]
  },
  {
   "cell_type": "code",
   "execution_count": 2028,
   "metadata": {},
   "outputs": [
    {
     "name": "stdout",
     "output_type": "stream",
     "text": [
      "1.21 ms ± 12.1 µs per loop (mean ± std. dev. of 7 runs, 1000 loops each)\n"
     ]
    }
   ],
   "source": [
    "%timeit gnb.fit(X_train_mf, y_train_mf)"
   ]
  },
  {
   "cell_type": "code",
   "execution_count": 2029,
   "metadata": {},
   "outputs": [],
   "source": [
    "gnb_y_pred_mf = gnb.predict(X_test_mf)\n",
    "gnb_x_pred_mf = gnb.predict(X_train_mf)"
   ]
  },
  {
   "cell_type": "markdown",
   "metadata": {},
   "source": [
    "#### Análise do Overfitting e Underfitting"
   ]
  },
  {
   "cell_type": "code",
   "execution_count": 2030,
   "metadata": {},
   "outputs": [],
   "source": [
    "acc_testNB_mf = accuracy_score(y_test_mf, gnb_y_pred_mf)\n",
    "acc_trainNB_mf = accuracy_score(y_train_mf, gnb_x_pred_mf)"
   ]
  },
  {
   "cell_type": "markdown",
   "metadata": {},
   "source": [
    "#### Da mesma forma do que os dados faltosos apagados, a acurácia dos dados de testes foi maior que dos dados de treinamento, ou seja aconteceu um underfitting. Mas, essa diferença ainda foi menor do que no caso anterior e as acurácias foram menores. "
   ]
  },
  {
   "cell_type": "code",
   "execution_count": 2031,
   "metadata": {},
   "outputs": [
    {
     "data": {
      "text/plain": [
       "(0.695, 0.72)"
      ]
     },
     "execution_count": 2031,
     "metadata": {},
     "output_type": "execute_result"
    },
    {
     "data": {
      "image/png": "[encoded data removed]",
      "text/plain": [
       "<Figure size 432x288 with 1 Axes>"
      ]
     },
     "metadata": {
      "needs_background": "light"
     },
     "output_type": "display_data"
    }
   ],
   "source": [
    "plt.bar(['Treinamento', 'Teste'],[acc_trainNB_mf, acc_testNB_mf])\n",
    "plt.ylim(bottom=0.695, top=0.72)"
   ]
  },
  {
   "cell_type": "markdown",
   "metadata": {},
   "source": [
    "### Conclusão"
   ]
  },
  {
   "cell_type": "markdown",
   "metadata": {},
   "source": [
    "#### Analisando os resultados obtidos com o Naive Bayes e o KNN, usando tanto dados apagados quanto dados substítuidos, podemos concluir:\n",
    "\n",
    "#### 1 - Apagando linhas de dados faltosos, há um melhor desempenho nos algoritmos, mesmo com a significativa redução do conjunto de dados.\n",
    "#### 2 - Entre os dois algoritmos, o KNN foi o que teve melhor desempenho, tanto com os dados substituídos quanto com os apagados."
   ]
  },
  {
   "cell_type": "code",
   "execution_count": null,
   "metadata": {},
   "outputs": [],
   "source": []
  }
 ],
 "metadata": {
  "kernelspec": {
   "display_name": "Python 3",
   "language": "python",
   "name": "python3"
  },
  "language_info": {
   "codemirror_mode": {
    "name": "ipython",
    "version": 3
   },
   "file_extension": ".py",
   "mimetype": "text/x-python",
   "name": "python",
   "nbconvert_exporter": "python",
   "pygments_lexer": "ipython3",
   "version": "3.5.6"
  }
 },
 "nbformat": 4,
 "nbformat_minor": 2
}
